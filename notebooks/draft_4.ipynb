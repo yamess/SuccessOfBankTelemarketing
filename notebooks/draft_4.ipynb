{
 "cells": [
  {
   "cell_type": "code",
   "execution_count": 1,
   "outputs": [],
   "source": [
    "%load_ext autoreload\n",
    "%autoreload 2"
   ],
   "metadata": {
    "collapsed": false,
    "pycharm": {
     "name": "#%%\n"
    }
   }
  },
  {
   "cell_type": "code",
   "execution_count": 2,
   "outputs": [],
   "source": [
    "import pandas as pd"
   ],
   "metadata": {
    "collapsed": false,
    "pycharm": {
     "name": "#%%\n"
    }
   }
  },
  {
   "cell_type": "code",
   "execution_count": 3,
   "outputs": [
    {
     "data": {
      "text/plain": "   age        job  marital    education  default housing loan    contact  \\\n0   56  housemaid  married     basic.4y       no      no   no  telephone   \n1   57   services  married  high.school  unknown      no   no  telephone   \n2   37   services  married  high.school       no     yes   no  telephone   \n3   40      admin  married     basic.6y       no      no   no  telephone   \n4   56   services  married  high.school       no      no  yes  telephone   \n\n  month day_of_week  ...  pdays  previous     poutcome  emp.var.rate  \\\n0   may         mon  ...    999         0  nonexistent           1.1   \n1   may         mon  ...    999         0  nonexistent           1.1   \n2   may         mon  ...    999         0  nonexistent           1.1   \n3   may         mon  ...    999         0  nonexistent           1.1   \n4   may         mon  ...    999         0  nonexistent           1.1   \n\n  cons.price.idx  cons.conf.idx  euribor3m  nr.employed  subscribed  \\\n0         93.994          -36.4      4.857       5191.0          no   \n1         93.994          -36.4      4.857       5191.0          no   \n2         93.994          -36.4      4.857       5191.0          no   \n3         93.994          -36.4      4.857       5191.0          no   \n4         93.994          -36.4      4.857       5191.0          no   \n\n   has_been_contacted  \n0                   1  \n1                   1  \n2                   1  \n3                   1  \n4                   1  \n\n[5 rows x 22 columns]",
      "text/html": "<div>\n<style scoped>\n    .dataframe tbody tr th:only-of-type {\n        vertical-align: middle;\n    }\n\n    .dataframe tbody tr th {\n        vertical-align: top;\n    }\n\n    .dataframe thead th {\n        text-align: right;\n    }\n</style>\n<table border=\"1\" class=\"dataframe\">\n  <thead>\n    <tr style=\"text-align: right;\">\n      <th></th>\n      <th>age</th>\n      <th>job</th>\n      <th>marital</th>\n      <th>education</th>\n      <th>default</th>\n      <th>housing</th>\n      <th>loan</th>\n      <th>contact</th>\n      <th>month</th>\n      <th>day_of_week</th>\n      <th>...</th>\n      <th>pdays</th>\n      <th>previous</th>\n      <th>poutcome</th>\n      <th>emp.var.rate</th>\n      <th>cons.price.idx</th>\n      <th>cons.conf.idx</th>\n      <th>euribor3m</th>\n      <th>nr.employed</th>\n      <th>subscribed</th>\n      <th>has_been_contacted</th>\n    </tr>\n  </thead>\n  <tbody>\n    <tr>\n      <th>0</th>\n      <td>56</td>\n      <td>housemaid</td>\n      <td>married</td>\n      <td>basic.4y</td>\n      <td>no</td>\n      <td>no</td>\n      <td>no</td>\n      <td>telephone</td>\n      <td>may</td>\n      <td>mon</td>\n      <td>...</td>\n      <td>999</td>\n      <td>0</td>\n      <td>nonexistent</td>\n      <td>1.1</td>\n      <td>93.994</td>\n      <td>-36.4</td>\n      <td>4.857</td>\n      <td>5191.0</td>\n      <td>no</td>\n      <td>1</td>\n    </tr>\n    <tr>\n      <th>1</th>\n      <td>57</td>\n      <td>services</td>\n      <td>married</td>\n      <td>high.school</td>\n      <td>unknown</td>\n      <td>no</td>\n      <td>no</td>\n      <td>telephone</td>\n      <td>may</td>\n      <td>mon</td>\n      <td>...</td>\n      <td>999</td>\n      <td>0</td>\n      <td>nonexistent</td>\n      <td>1.1</td>\n      <td>93.994</td>\n      <td>-36.4</td>\n      <td>4.857</td>\n      <td>5191.0</td>\n      <td>no</td>\n      <td>1</td>\n    </tr>\n    <tr>\n      <th>2</th>\n      <td>37</td>\n      <td>services</td>\n      <td>married</td>\n      <td>high.school</td>\n      <td>no</td>\n      <td>yes</td>\n      <td>no</td>\n      <td>telephone</td>\n      <td>may</td>\n      <td>mon</td>\n      <td>...</td>\n      <td>999</td>\n      <td>0</td>\n      <td>nonexistent</td>\n      <td>1.1</td>\n      <td>93.994</td>\n      <td>-36.4</td>\n      <td>4.857</td>\n      <td>5191.0</td>\n      <td>no</td>\n      <td>1</td>\n    </tr>\n    <tr>\n      <th>3</th>\n      <td>40</td>\n      <td>admin</td>\n      <td>married</td>\n      <td>basic.6y</td>\n      <td>no</td>\n      <td>no</td>\n      <td>no</td>\n      <td>telephone</td>\n      <td>may</td>\n      <td>mon</td>\n      <td>...</td>\n      <td>999</td>\n      <td>0</td>\n      <td>nonexistent</td>\n      <td>1.1</td>\n      <td>93.994</td>\n      <td>-36.4</td>\n      <td>4.857</td>\n      <td>5191.0</td>\n      <td>no</td>\n      <td>1</td>\n    </tr>\n    <tr>\n      <th>4</th>\n      <td>56</td>\n      <td>services</td>\n      <td>married</td>\n      <td>high.school</td>\n      <td>no</td>\n      <td>no</td>\n      <td>yes</td>\n      <td>telephone</td>\n      <td>may</td>\n      <td>mon</td>\n      <td>...</td>\n      <td>999</td>\n      <td>0</td>\n      <td>nonexistent</td>\n      <td>1.1</td>\n      <td>93.994</td>\n      <td>-36.4</td>\n      <td>4.857</td>\n      <td>5191.0</td>\n      <td>no</td>\n      <td>1</td>\n    </tr>\n  </tbody>\n</table>\n<p>5 rows × 22 columns</p>\n</div>"
     },
     "execution_count": 3,
     "metadata": {},
     "output_type": "execute_result"
    }
   ],
   "source": [
    "data = pd.read_csv(\"../data/clean/clean_bank_full.csv\")\n",
    "data.head()"
   ],
   "metadata": {
    "collapsed": false,
    "pycharm": {
     "name": "#%%\n"
    }
   }
  },
  {
   "cell_type": "code",
   "execution_count": 27,
   "outputs": [],
   "source": [
    "x_emb_cols = [\"job\", \"marital\", \"education\", \"default\", \"housing\", \"loan\", \"month\", \"day_of_week\", \"poutcome\"]\n",
    "x_bin_col = [\"contact\", \"has_been_contacted\"]\n",
    "y_col = \"subscribed\"\n",
    "x_numerical = [\"age\", \"campaign\", \"pdays\", \"previous\", \"emp.var.rate\", \"cons.price.idx\", \"cons.conf.idx\",\n",
    "               \"euribor3m\", \"nr.employed\"]\n",
    "cats = x_emb_cols + x_bin_col\n",
    "all_cols = x_emb_cols + x_bin_col + x_numerical"
   ],
   "metadata": {
    "collapsed": false,
    "pycharm": {
     "name": "#%%\n"
    }
   }
  },
  {
   "cell_type": "code",
   "execution_count": 28,
   "outputs": [],
   "source": [
    "data[cats] = data[cats].astype(\"category\")"
   ],
   "metadata": {
    "collapsed": false,
    "pycharm": {
     "name": "#%%\n"
    }
   }
  },
  {
   "cell_type": "code",
   "execution_count": 29,
   "outputs": [],
   "source": [
    "from bank_telemarketing.preprocessing.preprocess import MultiLabelEncoder, CustomScaler\n",
    "from sklearn.pipeline import Pipeline\n",
    "\n",
    "x_pipe = Pipeline(\n",
    "    steps=\n",
    "    [\n",
    "        (\"label_encoder\", MultiLabelEncoder(cols=cats)),\n",
    "        (\"scaler\", CustomScaler(cols=x_numerical))\n",
    "    ]\n",
    ")\n",
    "y_mapping = {\"no\": 0, \"yes\": 1}"
   ],
   "metadata": {
    "collapsed": false,
    "pycharm": {
     "name": "#%%\n"
    }
   }
  },
  {
   "cell_type": "code",
   "execution_count": 30,
   "outputs": [],
   "source": [
    "from sklearn.model_selection import train_test_split\n",
    "\n",
    "y = data.subscribed\n",
    "X = data.drop([\"subscribed\", \"duration\"], axis=1)\n",
    "\n",
    "X_train, X_test, y_train, y_test = train_test_split(X, y, test_size=0.3, random_state=56)"
   ],
   "metadata": {
    "collapsed": false,
    "pycharm": {
     "name": "#%%\n"
    }
   }
  },
  {
   "cell_type": "code",
   "execution_count": 31,
   "outputs": [
    {
     "data": {
      "text/plain": "            age  job  marital  education  default  housing  loan  contact  \\\n0     -0.967873    0        2          3        0        2     0        1   \n1     -0.007520    0        2          6        0        0     2        0   \n2     -0.007520    1        2          2        0        0     0        1   \n3      0.184551    5        1          2        1        0     0        1   \n4      0.568692   10        1          5        0        0     0        0   \n...         ...  ...      ...        ...      ...      ...   ...      ...   \n28818  0.760762    9        0          5        0        2     0        0   \n28819 -1.063909    7        2          3        0        2     0        0   \n28820  1.433010    5        1          5        0        2     0        1   \n28821 -1.255979    1        1          2        0        2     0        0   \n28822  0.280586    2        1          5        0        0     0        0   \n\n       month  day_of_week  campaign     pdays  previous  poutcome  \\\n0          3            0 -0.569289  0.195492 -0.349599         1   \n1          1            2  0.864498  0.195492 -0.349599         1   \n2          6            3  0.506051  0.195492 -0.349599         1   \n3          4            1 -0.210842  0.195492 -0.349599         1   \n4          3            3 -0.569289  0.195492 -0.349599         1   \n...      ...          ...       ...       ...       ...       ...   \n28818      3            3  0.506051  0.195492 -0.349599         1   \n28819      7            4 -0.569289  0.195492  1.690588         0   \n28820      6            2 -0.569289  0.195492 -0.349599         1   \n28821      6            3 -0.569289 -5.088711  1.690588         2   \n28822      6            0  0.506051  0.195492 -0.349599         1   \n\n       emp.var.rate  cons.price.idx  cons.conf.idx  euribor3m  nr.employed  \\\n0          0.838905        0.591943      -0.477034   0.770974     0.847611   \n1          0.838905       -0.226505       0.946185   0.772704     0.847611   \n2          0.647877        0.723171       0.881494   0.711598     0.333001   \n3          0.838905        1.536440      -0.282959   0.716786     0.847611   \n4          0.838905        0.591943      -0.477034   0.772127     0.847611   \n...             ...             ...            ...        ...          ...   \n28818      0.838905        0.591943      -0.477034   0.772704     0.847611   \n28819     -0.116235       -0.647817      -0.326086   0.287318     0.399582   \n28820      0.647877        0.723171       0.881494   0.713904     0.333001   \n28821     -1.198728       -1.177909      -1.231771  -1.343510    -0.941732   \n28822     -1.198728       -1.177909      -1.231771  -1.367145    -0.941732   \n\n       has_been_contacted  \n0                       1  \n1                       1  \n2                       1  \n3                       1  \n4                       1  \n...                   ...  \n28818                   1  \n28819                   1  \n28820                   1  \n28821                   0  \n28822                   1  \n\n[28823 rows x 20 columns]",
      "text/html": "<div>\n<style scoped>\n    .dataframe tbody tr th:only-of-type {\n        vertical-align: middle;\n    }\n\n    .dataframe tbody tr th {\n        vertical-align: top;\n    }\n\n    .dataframe thead th {\n        text-align: right;\n    }\n</style>\n<table border=\"1\" class=\"dataframe\">\n  <thead>\n    <tr style=\"text-align: right;\">\n      <th></th>\n      <th>age</th>\n      <th>job</th>\n      <th>marital</th>\n      <th>education</th>\n      <th>default</th>\n      <th>housing</th>\n      <th>loan</th>\n      <th>contact</th>\n      <th>month</th>\n      <th>day_of_week</th>\n      <th>campaign</th>\n      <th>pdays</th>\n      <th>previous</th>\n      <th>poutcome</th>\n      <th>emp.var.rate</th>\n      <th>cons.price.idx</th>\n      <th>cons.conf.idx</th>\n      <th>euribor3m</th>\n      <th>nr.employed</th>\n      <th>has_been_contacted</th>\n    </tr>\n  </thead>\n  <tbody>\n    <tr>\n      <th>0</th>\n      <td>-0.967873</td>\n      <td>0</td>\n      <td>2</td>\n      <td>3</td>\n      <td>0</td>\n      <td>2</td>\n      <td>0</td>\n      <td>1</td>\n      <td>3</td>\n      <td>0</td>\n      <td>-0.569289</td>\n      <td>0.195492</td>\n      <td>-0.349599</td>\n      <td>1</td>\n      <td>0.838905</td>\n      <td>0.591943</td>\n      <td>-0.477034</td>\n      <td>0.770974</td>\n      <td>0.847611</td>\n      <td>1</td>\n    </tr>\n    <tr>\n      <th>1</th>\n      <td>-0.007520</td>\n      <td>0</td>\n      <td>2</td>\n      <td>6</td>\n      <td>0</td>\n      <td>0</td>\n      <td>2</td>\n      <td>0</td>\n      <td>1</td>\n      <td>2</td>\n      <td>0.864498</td>\n      <td>0.195492</td>\n      <td>-0.349599</td>\n      <td>1</td>\n      <td>0.838905</td>\n      <td>-0.226505</td>\n      <td>0.946185</td>\n      <td>0.772704</td>\n      <td>0.847611</td>\n      <td>1</td>\n    </tr>\n    <tr>\n      <th>2</th>\n      <td>-0.007520</td>\n      <td>1</td>\n      <td>2</td>\n      <td>2</td>\n      <td>0</td>\n      <td>0</td>\n      <td>0</td>\n      <td>1</td>\n      <td>6</td>\n      <td>3</td>\n      <td>0.506051</td>\n      <td>0.195492</td>\n      <td>-0.349599</td>\n      <td>1</td>\n      <td>0.647877</td>\n      <td>0.723171</td>\n      <td>0.881494</td>\n      <td>0.711598</td>\n      <td>0.333001</td>\n      <td>1</td>\n    </tr>\n    <tr>\n      <th>3</th>\n      <td>0.184551</td>\n      <td>5</td>\n      <td>1</td>\n      <td>2</td>\n      <td>1</td>\n      <td>0</td>\n      <td>0</td>\n      <td>1</td>\n      <td>4</td>\n      <td>1</td>\n      <td>-0.210842</td>\n      <td>0.195492</td>\n      <td>-0.349599</td>\n      <td>1</td>\n      <td>0.838905</td>\n      <td>1.536440</td>\n      <td>-0.282959</td>\n      <td>0.716786</td>\n      <td>0.847611</td>\n      <td>1</td>\n    </tr>\n    <tr>\n      <th>4</th>\n      <td>0.568692</td>\n      <td>10</td>\n      <td>1</td>\n      <td>5</td>\n      <td>0</td>\n      <td>0</td>\n      <td>0</td>\n      <td>0</td>\n      <td>3</td>\n      <td>3</td>\n      <td>-0.569289</td>\n      <td>0.195492</td>\n      <td>-0.349599</td>\n      <td>1</td>\n      <td>0.838905</td>\n      <td>0.591943</td>\n      <td>-0.477034</td>\n      <td>0.772127</td>\n      <td>0.847611</td>\n      <td>1</td>\n    </tr>\n    <tr>\n      <th>...</th>\n      <td>...</td>\n      <td>...</td>\n      <td>...</td>\n      <td>...</td>\n      <td>...</td>\n      <td>...</td>\n      <td>...</td>\n      <td>...</td>\n      <td>...</td>\n      <td>...</td>\n      <td>...</td>\n      <td>...</td>\n      <td>...</td>\n      <td>...</td>\n      <td>...</td>\n      <td>...</td>\n      <td>...</td>\n      <td>...</td>\n      <td>...</td>\n      <td>...</td>\n    </tr>\n    <tr>\n      <th>28818</th>\n      <td>0.760762</td>\n      <td>9</td>\n      <td>0</td>\n      <td>5</td>\n      <td>0</td>\n      <td>2</td>\n      <td>0</td>\n      <td>0</td>\n      <td>3</td>\n      <td>3</td>\n      <td>0.506051</td>\n      <td>0.195492</td>\n      <td>-0.349599</td>\n      <td>1</td>\n      <td>0.838905</td>\n      <td>0.591943</td>\n      <td>-0.477034</td>\n      <td>0.772704</td>\n      <td>0.847611</td>\n      <td>1</td>\n    </tr>\n    <tr>\n      <th>28819</th>\n      <td>-1.063909</td>\n      <td>7</td>\n      <td>2</td>\n      <td>3</td>\n      <td>0</td>\n      <td>2</td>\n      <td>0</td>\n      <td>0</td>\n      <td>7</td>\n      <td>4</td>\n      <td>-0.569289</td>\n      <td>0.195492</td>\n      <td>1.690588</td>\n      <td>0</td>\n      <td>-0.116235</td>\n      <td>-0.647817</td>\n      <td>-0.326086</td>\n      <td>0.287318</td>\n      <td>0.399582</td>\n      <td>1</td>\n    </tr>\n    <tr>\n      <th>28820</th>\n      <td>1.433010</td>\n      <td>5</td>\n      <td>1</td>\n      <td>5</td>\n      <td>0</td>\n      <td>2</td>\n      <td>0</td>\n      <td>1</td>\n      <td>6</td>\n      <td>2</td>\n      <td>-0.569289</td>\n      <td>0.195492</td>\n      <td>-0.349599</td>\n      <td>1</td>\n      <td>0.647877</td>\n      <td>0.723171</td>\n      <td>0.881494</td>\n      <td>0.713904</td>\n      <td>0.333001</td>\n      <td>1</td>\n    </tr>\n    <tr>\n      <th>28821</th>\n      <td>-1.255979</td>\n      <td>1</td>\n      <td>1</td>\n      <td>2</td>\n      <td>0</td>\n      <td>2</td>\n      <td>0</td>\n      <td>0</td>\n      <td>6</td>\n      <td>3</td>\n      <td>-0.569289</td>\n      <td>-5.088711</td>\n      <td>1.690588</td>\n      <td>2</td>\n      <td>-1.198728</td>\n      <td>-1.177909</td>\n      <td>-1.231771</td>\n      <td>-1.343510</td>\n      <td>-0.941732</td>\n      <td>0</td>\n    </tr>\n    <tr>\n      <th>28822</th>\n      <td>0.280586</td>\n      <td>2</td>\n      <td>1</td>\n      <td>5</td>\n      <td>0</td>\n      <td>0</td>\n      <td>0</td>\n      <td>0</td>\n      <td>6</td>\n      <td>0</td>\n      <td>0.506051</td>\n      <td>0.195492</td>\n      <td>-0.349599</td>\n      <td>1</td>\n      <td>-1.198728</td>\n      <td>-1.177909</td>\n      <td>-1.231771</td>\n      <td>-1.367145</td>\n      <td>-0.941732</td>\n      <td>1</td>\n    </tr>\n  </tbody>\n</table>\n<p>28823 rows × 20 columns</p>\n</div>"
     },
     "execution_count": 31,
     "metadata": {},
     "output_type": "execute_result"
    }
   ],
   "source": [
    "# Reindexing table\n",
    "X_train = X_train.reset_index(drop=True)\n",
    "y_train = y_train.reset_index(drop=True)\n",
    "\n",
    "y_train = y_train.replace(y_mapping)\n",
    "X_train = x_pipe.fit_transform(X_train)\n",
    "X_train"
   ],
   "metadata": {
    "collapsed": false,
    "pycharm": {
     "name": "#%%\n"
    }
   }
  },
  {
   "cell_type": "code",
   "execution_count": 32,
   "outputs": [
    {
     "data": {
      "text/plain": "([(13, 7), (5, 3), (9, 5), (4, 2), (4, 2), (4, 2), (11, 6), (6, 3), (4, 2)],\n ['job',\n  'marital',\n  'education',\n  'default',\n  'housing',\n  'loan',\n  'month',\n  'day_of_week',\n  'poutcome'])"
     },
     "execution_count": 32,
     "metadata": {},
     "output_type": "execute_result"
    }
   ],
   "source": [
    "from bank_telemarketing.preprocessing.embedding import CategoricalEmbeddingSizes\n",
    "\n",
    "# Get embedding size\n",
    "emb = CategoricalEmbeddingSizes()\n",
    "emb_size = emb.get_cat_emb_dims(data=X_train, cat_cols=cats)\n",
    "emb_size"
   ],
   "metadata": {
    "collapsed": false,
    "pycharm": {
     "name": "#%%\n"
    }
   }
  },
  {
   "cell_type": "code",
   "execution_count": 37,
   "outputs": [],
   "source": [
    "emb_sizes = emb_size[0]\n",
    "emb_cols = emb_size[1]"
   ],
   "metadata": {
    "collapsed": false,
    "pycharm": {
     "name": "#%%\n"
    }
   }
  },
  {
   "cell_type": "code",
   "execution_count": 34,
   "outputs": [],
   "source": [
    "from torch.utils.data.dataset import Dataset\n",
    "from torch.utils.data import DataLoader\n",
    "import numpy as np\n",
    "import torch\n",
    "\n",
    "class CustomDataset(Dataset):\n",
    "    def __init__(self, emb_cols, x, y):\n",
    "        super(CustomDataset, self).__init__()\n",
    "        self.cat = emb_cols\n",
    "        _emb = x.loc[:, emb_cols]\n",
    "        self.emb_data = np.stack(\n",
    "            [c.values for _, c in _emb.items()], axis=1\n",
    "        ).astype(np.int64)\n",
    "\n",
    "        # Continuous data\n",
    "        other_data = x.drop(emb_cols, axis=1)\n",
    "        self.cont_data = np.stack(\n",
    "            [c.values for _, c in other_data.items()], axis=1\n",
    "        ).astype(np.float32)\n",
    "        self.y = y.values.astype(np.int32)\n",
    "\n",
    "    def __len__(self):\n",
    "        return len(self.y)\n",
    "\n",
    "    def __getitem__(self, item):\n",
    "        x_cont = self.cont_data[item]\n",
    "        x_emb = self.emb_data[item]\n",
    "        y = np.asarray(self.y[item])\n",
    "\n",
    "        out = {\n",
    "            \"x_cont\": torch.from_numpy(x_cont),\n",
    "            \"x_emb\": torch.from_numpy(x_emb),\n",
    "            \"y\": torch.tensor(y, dtype=torch.long)\n",
    "        }\n",
    "        return out"
   ],
   "metadata": {
    "collapsed": false,
    "pycharm": {
     "name": "#%%\n"
    }
   }
  },
  {
   "cell_type": "code",
   "execution_count": 35,
   "outputs": [],
   "source": [
    "import torch.nn as nn\n",
    "\n",
    "class Classifier(nn.Module):\n",
    "    def __init__(self, hidden, output_size, continuous_size, embedding_sizes, dropout):\n",
    "        super(Classifier, self).__init__()\n",
    "\n",
    "        self.emb_dims = embedding_sizes\n",
    "        self.cont_dims = continuous_size\n",
    "        self.dropout = nn.Dropout(dropout)\n",
    "        self.bn = nn.BatchNorm1d(self.cont_dims)\n",
    "\n",
    "        # Embedding layers for categorical columns\n",
    "        self.embedding_layers = nn.ModuleList(\n",
    "            [nn.Embedding(cat, size) for cat, size in self.emb_dims]\n",
    "        )\n",
    "        n_emb = sum(e.embedding_dim for e in self.embedding_layers)\n",
    "\n",
    "        # Linear layers\n",
    "        self.linear = nn.Sequential(\n",
    "            nn.Linear(in_features=n_emb + continuous_size, out_features=hidden),\n",
    "            nn.ReLU(),\n",
    "            nn.BatchNorm1d(hidden),\n",
    "            nn.Linear(in_features=hidden, out_features=int(hidden/2)),\n",
    "            nn.ReLU(),\n",
    "            nn.BatchNorm1d(int(hidden/2)),\n",
    "            nn.Linear(in_features=int(hidden/2), out_features=output_size)\n",
    "        )\n",
    "\n",
    "        # Initialize the layers weight\n",
    "        self.embedding_layers.apply(self.init_layers)\n",
    "        self.linear.apply(self.init_layers)\n",
    "\n",
    "\n",
    "    @staticmethod\n",
    "    def init_layers(m):\n",
    "        if type(m) == nn.Linear or type(m) == nn.Embedding:\n",
    "            nn.init.kaiming_normal_(m.weight)\n",
    "\n",
    "    def forward(self, x_cont, x_cat):\n",
    "        embeddings = [\n",
    "            self.dropout(f(x_cat[:, i])) for i, f in enumerate(self.embedding_layers)\n",
    "        ]\n",
    "        embeddings = torch.cat(embeddings, 1)\n",
    "\n",
    "        x_cont = self.bn(x_cont)\n",
    "        x = torch.cat((embeddings, x_cont), 1)\n",
    "        x = self.linear(x)\n",
    "        return x"
   ],
   "metadata": {
    "collapsed": false,
    "pycharm": {
     "name": "#%%\n"
    }
   }
  },
  {
   "cell_type": "code",
   "execution_count": 36,
   "outputs": [],
   "source": [
    "from torch.utils.data import RandomSampler\n",
    "\n",
    "train_dataset = CustomDataset(\n",
    "    emb_cols=emb_cols,\n",
    "    x=X_train,\n",
    "    y=y_train\n",
    ")\n",
    "train_dataloader = DataLoader(\n",
    "    dataset=train_dataset,\n",
    "    sampler=RandomSampler(train_dataset),\n",
    "    batch_size=5\n",
    ")"
   ],
   "metadata": {
    "collapsed": false,
    "pycharm": {
     "name": "#%%\n"
    }
   }
  },
  {
   "cell_type": "code",
   "execution_count": 54,
   "outputs": [
    {
     "data": {
      "text/plain": "Classifier(\n  (dropout): Dropout(p=0.5, inplace=False)\n  (bn): BatchNorm1d(11, eps=1e-05, momentum=0.1, affine=True, track_running_stats=True)\n  (embedding_layers): ModuleList(\n    (0): Embedding(13, 7)\n    (1): Embedding(5, 3)\n    (2): Embedding(9, 5)\n    (3): Embedding(4, 2)\n    (4): Embedding(4, 2)\n    (5): Embedding(4, 2)\n    (6): Embedding(11, 6)\n    (7): Embedding(6, 3)\n    (8): Embedding(4, 2)\n  )\n  (linear): Sequential(\n    (0): Linear(in_features=43, out_features=32, bias=True)\n    (1): ReLU()\n    (2): BatchNorm1d(32, eps=1e-05, momentum=0.1, affine=True, track_running_stats=True)\n    (3): Linear(in_features=32, out_features=16, bias=True)\n    (4): ReLU()\n    (5): BatchNorm1d(16, eps=1e-05, momentum=0.1, affine=True, track_running_stats=True)\n    (6): Linear(in_features=16, out_features=1, bias=True)\n  )\n)"
     },
     "execution_count": 54,
     "metadata": {},
     "output_type": "execute_result"
    }
   ],
   "source": [
    "model = Classifier(\n",
    "    hidden=32,\n",
    "    output_size=1,\n",
    "    continuous_size=11,\n",
    "    embedding_sizes=emb_size[0],\n",
    "    dropout=0.5\n",
    ")\n",
    "model.train()"
   ],
   "metadata": {
    "collapsed": false,
    "pycharm": {
     "name": "#%%\n"
    }
   }
  },
  {
   "cell_type": "code",
   "execution_count": 55,
   "outputs": [],
   "source": [
    "from torch.optim import lr_scheduler\n",
    "from torch import optim\n",
    "from torch.nn import BCEWithLogitsLoss\n",
    "\n",
    "optimizer = optim.Adam(model.parameters(), lr=0.05)\n",
    "pos_weight = y_train.value_counts()[0] / y_train.value_counts()[1]\n",
    "criterion = BCEWithLogitsLoss(pos_weight=torch.tensor(pos_weight))\n",
    "\n",
    "scheduler = lr_scheduler.ReduceLROnPlateau(\n",
    "        optimizer,\n",
    "        \"min\",\n",
    "        patience=10,\n",
    "    )"
   ],
   "metadata": {
    "collapsed": false,
    "pycharm": {
     "name": "#%%\n"
    }
   }
  },
  {
   "cell_type": "code",
   "execution_count": 56,
   "outputs": [
    {
     "name": "stdout",
     "output_type": "stream",
     "text": [
      "{'loss': 1.144256016923517, 'f1': 0.3214959145191703, 'precision': 0.21507410911384423}\n"
     ]
    }
   ],
   "source": [
    "from bank_telemarketing.train.train_model import train\n",
    "\n",
    "performance = train(\n",
    "    model=model,\n",
    "    device=\"cpu\",\n",
    "    dataloader=train_dataloader,\n",
    "    pos_weight=pos_weight,\n",
    "    criterion=criterion,\n",
    "    optimizer=optimizer,\n",
    "    cut_point=0.5\n",
    ")\n",
    "print(performance)"
   ],
   "metadata": {
    "collapsed": false,
    "pycharm": {
     "name": "#%%\n"
    }
   }
  },
  {
   "cell_type": "code",
   "execution_count": null,
   "outputs": [],
   "source": [],
   "metadata": {
    "collapsed": false,
    "pycharm": {
     "name": "#%%\n"
    }
   }
  }
 ],
 "metadata": {
  "kernelspec": {
   "display_name": "Python 3",
   "language": "python",
   "name": "python3"
  },
  "language_info": {
   "codemirror_mode": {
    "name": "ipython",
    "version": 2
   },
   "file_extension": ".py",
   "mimetype": "text/x-python",
   "name": "python",
   "nbconvert_exporter": "python",
   "pygments_lexer": "ipython2",
   "version": "2.7.6"
  }
 },
 "nbformat": 4,
 "nbformat_minor": 0
}